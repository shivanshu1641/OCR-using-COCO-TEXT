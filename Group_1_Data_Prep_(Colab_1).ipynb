{
  "nbformat": 4,
  "nbformat_minor": 0,
  "metadata": {
    "colab": {
      "name": "Group 1 : Data Prep (Colab-1)",
      "provenance": [],
      "collapsed_sections": [],
      "machine_shape": "hm",
      "include_colab_link": true
    },
    "kernelspec": {
      "name": "python3",
      "display_name": "Python 3"
    }
  },
  "cells": [
    {
      "cell_type": "markdown",
      "metadata": {
        "id": "view-in-github",
        "colab_type": "text"
      },
      "source": [
        "<a href=\"https://colab.research.google.com/github/shivanshu1641/OCR-using-COCO-TEXT/blob/main/Group_1_Data_Prep_(Colab_1).ipynb\" target=\"_parent\"><img src=\"https://colab.research.google.com/assets/colab-badge.svg\" alt=\"Open In Colab\"/></a>"
      ]
    },
    {
      "cell_type": "markdown",
      "metadata": {
        "id": "qQDRlnQTdasw"
      },
      "source": [
        "# Akash Singh TE COMP B 27"
      ]
    },
    {
      "cell_type": "markdown",
      "metadata": {
        "id": "RXW_xaq4BaX7"
      },
      "source": [
        "# **Importing Modules**"
      ]
    },
    {
      "cell_type": "code",
      "metadata": {
        "id": "tZRSiDYNQLSr"
      },
      "source": [
        "from pydrive.auth import GoogleAuth\n",
        "from pydrive.drive import GoogleDrive\n",
        "from google.colab import auth\n",
        "from oauth2client.client import GoogleCredentials\n",
        "\n",
        "\n",
        "from google.colab import drive\n",
        "import numpy as np\n",
        "import matplotlib.pyplot as plt\n",
        "import matplotlib.image as mpimg\n",
        "import PIL\n",
        "import os\n",
        "from os import path\n",
        "from os import walk\n",
        "from sklearn.metrics import confusion_matrix\n",
        "import seaborn as sn; sn.set(font_scale=1.4)\n",
        "from sklearn.utils import shuffle           \n",
        "import cv2                                 \n",
        "import tensorflow as tf                \n",
        "from tqdm import tqdm\n",
        "import shutil \n",
        "from shutil import copyfile\n",
        "from tensorflow.keras.preprocessing.image import ImageDataGenerator\n",
        "from keras.models import Sequential\n",
        "from keras.layers import Conv2D, MaxPooling2D,GlobalMaxPooling2D\n",
        "from keras.layers import Activation, Dropout, Flatten, Dense\n",
        "from tensorflow.keras import layers\n",
        "import keras\n",
        "import skimage.io as io\n",
        "import pylab\n",
        "import pandas as pd\n",
        "pylab.rcParams['figure.figsize'] = (10.0, 8.0)"
      ],
      "execution_count": null,
      "outputs": []
    },
    {
      "cell_type": "markdown",
      "metadata": {
        "id": "d2VgXJAHBjXS"
      },
      "source": [
        "# **Load Dataset**"
      ]
    },
    {
      "cell_type": "markdown",
      "metadata": {
        "id": "oAKc5CuudrYF"
      },
      "source": [
        "## Mount Drive"
      ]
    },
    {
      "cell_type": "code",
      "metadata": {
        "id": "XcyWb2WsdVOQ"
      },
      "source": [
        "from google.colab import drive\n",
        "drive.mount('/content/drive')"
      ],
      "execution_count": null,
      "outputs": []
    },
    {
      "cell_type": "code",
      "metadata": {
        "id": "A5ke9p9EnuoR",
        "outputId": "64faaece-08f0-44ea-cb57-217cd834fd46",
        "colab": {
          "base_uri": "https://localhost:8080/",
          "height": 170
        }
      },
      "source": [
        "!unzip \"/content/drive/My Drive/coco_text_master.zip\"\n",
        "shutil.move('/content/coco-text-master/coco_text.py','/content')  \n",
        "shutil.move('/content/coco-text-master/coco_evaluation.py','/content')"
      ],
      "execution_count": null,
      "outputs": [
        {
          "output_type": "stream",
          "text": [
            "Archive:  /content/coco_text_master.zip\n",
            "38f8490fa7281872f588ae693f551cedbe2c0129\n",
            "   creating: coco-text-master/\n",
            "  inflating: coco-text-master/README.md  \n",
            "  inflating: coco-text-master/coco_evaluation.py  \n",
            "  inflating: coco-text-master/coco_text.py  \n",
            "  inflating: coco-text-master/coco_text_Demo.ipynb  \n",
            "  inflating: coco-text-master/our_results.json  \n"
          ],
          "name": "stdout"
        },
        {
          "output_type": "execute_result",
          "data": {
            "application/vnd.google.colaboratory.intrinsic+json": {
              "type": "string"
            },
            "text/plain": [
              "'/content/coco_evaluation.py'"
            ]
          },
          "metadata": {
            "tags": []
          },
          "execution_count": 5
        }
      ]
    },
    {
      "cell_type": "markdown",
      "metadata": {
        "id": "bnjG46Mtdw06"
      },
      "source": [
        "## Import COCO API"
      ]
    },
    {
      "cell_type": "code",
      "metadata": {
        "id": "U6Vquo0Sn4ik"
      },
      "source": [
        "import coco_text\n",
        "import coco_evaluation"
      ],
      "execution_count": null,
      "outputs": []
    },
    {
      "cell_type": "markdown",
      "metadata": {
        "id": "kaldhPWTdDGS"
      },
      "source": [
        "# Load Dataset using PyDrive\n"
      ]
    },
    {
      "cell_type": "markdown",
      "metadata": {
        "id": "DpUJ6Z_-g6SR"
      },
      "source": [
        "Before loading lets have a look about our dataset.\n"
      ]
    },
    {
      "cell_type": "markdown",
      "metadata": {
        "id": "cojJRJHXd121"
      },
      "source": [
        "![COCODATAinfo.png](data:image/png;base64,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)"
      ]
    },
    {
      "cell_type": "code",
      "metadata": {
        "id": "5JR0IpdzCigS"
      },
      "source": [
        "#Access Google Drive\n",
        "data = drive.CreateFile({'id':\"1dFkw4M1TxLi-A9L4T1EMmM6T8zNyrbLJ\"})\n",
        "data.GetContentFile(\"train.zip\")"
      ],
      "execution_count": null,
      "outputs": []
    },
    {
      "cell_type": "code",
      "metadata": {
        "id": "qVjxSifle8pp"
      },
      "source": [
        "data = drive.CreateFile({'id':\"1Ig3WP-hymxo-JqgXGwS31PeAmZlxjojm\"})\n",
        "data.GetContentFile(\"train.z01\")"
      ],
      "execution_count": null,
      "outputs": []
    },
    {
      "cell_type": "code",
      "metadata": {
        "id": "2FSieL5Ke7P4"
      },
      "source": [
        "data = drive.CreateFile({'id':\"1puiuGCTRcRHtsJsOoEHGj-2z2U6_3lrN\"})\n",
        "data.GetContentFile(\"train.z02\")"
      ],
      "execution_count": null,
      "outputs": []
    },
    {
      "cell_type": "code",
      "metadata": {
        "id": "k819FXVae5Z8"
      },
      "source": [
        "data = drive.CreateFile({'id':\"1yVz6owIP3Lwb381gSOodaMZdGElcRfMH\"})\n",
        "data.GetContentFile(\"train.z03\")"
      ],
      "execution_count": null,
      "outputs": []
    },
    {
      "cell_type": "code",
      "metadata": {
        "id": "fSvIVgNEGw-i"
      },
      "source": [
        "!zip -F \"/content/train.zip\" --out \"/content/train-large.zip\""
      ],
      "execution_count": null,
      "outputs": []
    },
    {
      "cell_type": "code",
      "metadata": {
        "id": "Qcu6_u8rdjaz"
      },
      "source": [
        "!unzip \"/content/train-large.zip\"\n",
        "#After this unzipping finishes delete the files that were loaded from drive"
      ],
      "execution_count": null,
      "outputs": []
    },
    {
      "cell_type": "markdown",
      "metadata": {
        "id": "ga7vs7_wdLNe"
      },
      "source": [
        "# **Inspect Dataset**"
      ]
    },
    {
      "cell_type": "markdown",
      "metadata": {
        "id": "EY0CelwOi6zV"
      },
      "source": [
        "## Count of Train, Val and Test Images"
      ]
    },
    {
      "cell_type": "code",
      "metadata": {
        "id": "c-vFLf1Dk_1V",
        "outputId": "e71e2aff-0324-4969-bcbb-584058c99bca",
        "colab": {
          "base_uri": "https://localhost:8080/",
          "height": 34
        }
      },
      "source": [
        "path, dirs, files = next(os.walk(\"/content/train2014\"))\n",
        "file_count = len(files)\n",
        "print(file_count)"
      ],
      "execution_count": null,
      "outputs": [
        {
          "output_type": "stream",
          "text": [
            "82783\n"
          ],
          "name": "stdout"
        }
      ]
    },
    {
      "cell_type": "code",
      "metadata": {
        "id": "qJVk5b0arHwR",
        "outputId": "9ebc44b3-da5e-43a7-9cbf-ba4b9d61161d",
        "colab": {
          "base_uri": "https://localhost:8080/",
          "height": 50
        }
      },
      "source": [
        "data = drive.CreateFile({'id':\"1qQODsUAe4sF-yUR-906gn4okYHcBi1Pu\"})\n",
        "data.GetContentFile(\"COCO_TEXT.zip\")\n",
        "!unzip \"/content/COCO_TEXT.zip\"\n"
      ],
      "execution_count": null,
      "outputs": [
        {
          "output_type": "stream",
          "text": [
            "Archive:  /content/COCO_TEXT.zip\n",
            "  inflating: COCO_Text.json          \n"
          ],
          "name": "stdout"
        }
      ]
    },
    {
      "cell_type": "code",
      "metadata": {
        "id": "mZ42LAEwthkr"
      },
      "source": [
        "dataDir='/content'\n",
        "dataType='train2014'"
      ],
      "execution_count": null,
      "outputs": []
    },
    {
      "cell_type": "code",
      "metadata": {
        "id": "nohf66hEsUvh",
        "outputId": "3d336e8e-fa7a-470d-89a5-c509f344aebe",
        "colab": {
          "base_uri": "https://localhost:8080/",
          "height": 84
        }
      },
      "source": [
        "ct = coco_text.COCO_Text('/content/COCO_Text.json')"
      ],
      "execution_count": null,
      "outputs": [
        {
          "output_type": "stream",
          "text": [
            "loading annotations into memory...\n",
            "0:00:02.543841\n",
            "creating index...\n",
            "index created!\n"
          ],
          "name": "stdout"
        }
      ]
    },
    {
      "cell_type": "code",
      "metadata": {
        "id": "rJbzxAOOsgZC",
        "outputId": "8f0b70ae-e8aa-4be1-8c70-27eed82ed754",
        "colab": {
          "base_uri": "https://localhost:8080/",
          "height": 101
        }
      },
      "source": [
        "ct.info()"
      ],
      "execution_count": null,
      "outputs": [
        {
          "output_type": "stream",
          "text": [
            "url: http://vision.cornell.edu/se3/coco-text/\n",
            "date_created: 2017-03-28\n",
            "version: 1.4\n",
            "description: This is 1.4 version of the 2017 COCO-Text dataset.\n",
            "author: COCO-Text group\n"
          ],
          "name": "stdout"
        }
      ]
    },
    {
      "cell_type": "code",
      "metadata": {
        "id": "dRuROrAftz7B",
        "outputId": "db0f512c-6fe4-40bf-f073-c381ff9e234e",
        "colab": {
          "base_uri": "https://localhost:8080/",
          "height": 84
        }
      },
      "source": [
        "# get all images containing at least one instance of legible text\n",
        "imgIds = ct.getImgIds(imgIds=ct.train ,catIds=[('legibility','legible'),('class','machine printed')])\n",
        "print(len(imgIds))\n",
        "imgIds = ct.getImgIds(imgIds=ct.train ,catIds=[('legibility','ilegible'),('class','machine printed')])\n",
        "print(len(imgIds))\n",
        "imgIds = ct.getImgIds(imgIds=ct.train ,catIds=[('legibility','legible'),('class','handwritten')])\n",
        "print(len(imgIds))\n",
        "imgIds = ct.getImgIds(imgIds=ct.train ,catIds=[('legibility','ilegible'),('class','handwritten')])\n",
        "print(len(imgIds))"
      ],
      "execution_count": null,
      "outputs": [
        {
          "output_type": "stream",
          "text": [
            "14324\n",
            "0\n",
            "1074\n",
            "0\n"
          ],
          "name": "stdout"
        }
      ]
    },
    {
      "cell_type": "code",
      "metadata": {
        "id": "Du6PECuGt7d2",
        "outputId": "530ec5c2-afc9-493d-f221-c65ef9004cca",
        "colab": {
          "base_uri": "https://localhost:8080/",
          "height": 84
        }
      },
      "source": [
        "# get all images containing at least one instance of legible text\n",
        "imgIds = ct.getImgIds(imgIds=ct.val ,catIds=[('legibility','legible'),('class','machine printed')])\n",
        "print(len(imgIds))\n",
        "imgIds = ct.getImgIds(imgIds=ct.val ,catIds=[('legibility','ilegible'),('class','machine printed')])\n",
        "print(len(imgIds))\n",
        "imgIds = ct.getImgIds(imgIds=ct.val ,catIds=[('legibility','legible'),('class','handwritten')])\n",
        "print(len(imgIds))\n",
        "imgIds = ct.getImgIds(imgIds=ct.val ,catIds=[('legibility','ilegible'),('class','handwritten')])\n",
        "print(len(imgIds))"
      ],
      "execution_count": null,
      "outputs": [
        {
          "output_type": "stream",
          "text": [
            "3346\n",
            "0\n",
            "242\n",
            "0\n"
          ],
          "name": "stdout"
        }
      ]
    },
    {
      "cell_type": "code",
      "metadata": {
        "id": "tnqhNp6FgN6K"
      },
      "source": [
        "imgIds_train= ct.getImgIds(imgIds=ct.train, \n",
        "                    catIds=[('legibility','legible')])\n",
        "imgIds_val= ct.getImgIds(imgIds=ct.val, \n",
        "                    catIds=[('legibility','legible')])"
      ],
      "execution_count": null,
      "outputs": []
    },
    {
      "cell_type": "markdown",
      "metadata": {
        "id": "CLUbNr4wi1s6"
      },
      "source": [
        "## Number of Images"
      ]
    },
    {
      "cell_type": "code",
      "metadata": {
        "id": "gI8Hq5gvgQQO"
      },
      "source": [
        "images_in_annotation_train = []\n",
        "images_in_annotation_val = []\n",
        "for idx in range(len(imgIds_train)):\n",
        "  x = ct.loadImgs(imgIds_train[idx])[0]\n",
        "  images_in_annotation_train.append('%s/%s/%s'%(dataDir,dataType,x['file_name']))\n",
        "for idx in range(len(imgIds_val)):\n",
        "  x = ct.loadImgs(imgIds_val[idx])[0]\n",
        "  images_in_annotation_val.append('%s/%s/%s'%(dataDir,dataType,x['file_name']))"
      ],
      "execution_count": null,
      "outputs": []
    },
    {
      "cell_type": "code",
      "metadata": {
        "id": "xHnil9ebgSN7",
        "outputId": "af36736d-22df-466d-cd1f-3b9af76bd8c8",
        "colab": {
          "base_uri": "https://localhost:8080/",
          "height": 50
        }
      },
      "source": [
        "print(len(images_in_annotation_train))\n",
        "print(len(images_in_annotation_val))"
      ],
      "execution_count": null,
      "outputs": [
        {
          "output_type": "stream",
          "text": [
            "15124\n",
            "3522\n"
          ],
          "name": "stdout"
        }
      ]
    },
    {
      "cell_type": "code",
      "metadata": {
        "id": "LPZ1-KsNgW3q",
        "outputId": "e8d5d954-b525-4caf-ec91-244ba883140d",
        "colab": {
          "base_uri": "https://localhost:8080/",
          "height": 35
        }
      },
      "source": [
        "images_in_annotation_train[0]"
      ],
      "execution_count": null,
      "outputs": [
        {
          "output_type": "execute_result",
          "data": {
            "application/vnd.google.colaboratory.intrinsic+json": {
              "type": "string"
            },
            "text/plain": [
              "'/content/train2014/COCO_train2014_000000294914.jpg'"
            ]
          },
          "metadata": {
            "tags": []
          },
          "execution_count": 26
        }
      ]
    },
    {
      "cell_type": "markdown",
      "metadata": {
        "id": "0YxfMGk2ir_x"
      },
      "source": [
        "## Dataset Split\n"
      ]
    },
    {
      "cell_type": "code",
      "metadata": {
        "id": "CRxB4_iMgbK2"
      },
      "source": [
        "os.mkdir('/content/data')\n",
        "os.mkdir('/content/data/Train')\n",
        "os.mkdir('/content/data/Val')"
      ],
      "execution_count": null,
      "outputs": []
    },
    {
      "cell_type": "code",
      "metadata": {
        "id": "LFn7BMrEgfw3"
      },
      "source": [
        "for source in images_in_annotation_train:\n",
        "  shutil.copy(source, '/content/data/Train')  \n",
        "for source in images_in_annotation_val:\n",
        "  shutil.copy(source, '/content/data/Val')  \n"
      ],
      "execution_count": null,
      "outputs": []
    },
    {
      "cell_type": "code",
      "metadata": {
        "id": "rkI9K2B2gw_1",
        "outputId": "cdb7ff48-698b-4817-f676-cfdf7771a01c",
        "colab": {
          "base_uri": "https://localhost:8080/",
          "height": 34
        }
      },
      "source": [
        "f_train = []\n",
        "for (dirpath, dirnames, filenames) in walk('/content/data/Train'):\n",
        "    f_train.extend(filenames)\n",
        "    break\n",
        "print(len(f_train))"
      ],
      "execution_count": null,
      "outputs": [
        {
          "output_type": "stream",
          "text": [
            "15124\n"
          ],
          "name": "stdout"
        }
      ]
    },
    {
      "cell_type": "code",
      "metadata": {
        "id": "swk1eI2Gg8lH",
        "outputId": "6ca84a11-1c76-4848-c219-4a5e9c8493ca",
        "colab": {
          "base_uri": "https://localhost:8080/",
          "height": 34
        }
      },
      "source": [
        "f_val = []\n",
        "for (dirpath, dirnames, filenames) in walk('/content/data/Val'):\n",
        "    f_val.extend(filenames)\n",
        "    break\n",
        "print(len(f_val))"
      ],
      "execution_count": null,
      "outputs": [
        {
          "output_type": "stream",
          "text": [
            "3522\n"
          ],
          "name": "stdout"
        }
      ]
    },
    {
      "cell_type": "markdown",
      "metadata": {
        "id": "eRZpkWzzjGl1"
      },
      "source": [
        "# Save the Zip\n"
      ]
    },
    {
      "cell_type": "code",
      "metadata": {
        "id": "HC-ZOX3Sj4Rb",
        "outputId": "60c72304-554d-4ed5-b8da-abf78cbbc243",
        "colab": {
          "base_uri": "https://localhost:8080/",
          "height": 35
        }
      },
      "source": [
        "shutil.make_archive(\"Data\",\"zip\",'/content/data')"
      ],
      "execution_count": null,
      "outputs": [
        {
          "output_type": "execute_result",
          "data": {
            "application/vnd.google.colaboratory.intrinsic+json": {
              "type": "string"
            },
            "text/plain": [
              "'/content/Data.zip'"
            ]
          },
          "metadata": {
            "tags": []
          },
          "execution_count": 33
        }
      ]
    }
  ]
}